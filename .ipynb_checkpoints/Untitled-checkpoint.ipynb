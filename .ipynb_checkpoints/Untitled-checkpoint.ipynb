{
 "cells": [
  {
   "cell_type": "markdown",
   "metadata": {
    "collapsed": true,
    "deletable": true,
    "editable": true
   },
   "source": [
    "### Puzzle for Isobar"
   ]
  },
  {
   "cell_type": "code",
   "execution_count": 10,
   "metadata": {
    "collapsed": true,
    "deletable": true,
    "editable": true
   },
   "outputs": [],
   "source": [
    "import glob\n",
    "import time\n",
    "import random\n",
    "import cv2\n",
    "import matplotlib.image as mpimg\n",
    "import matplotlib.pyplot as plt\n",
    "import numpy as np\n",
    "import argparse\n",
    "import pickle"
   ]
  },
  {
   "cell_type": "code",
   "execution_count": 11,
   "metadata": {
    "collapsed": false,
    "deletable": true,
    "editable": true
   },
   "outputs": [],
   "source": [
    "# create class for tiles\n",
    "\n",
    "class tile:\n",
    "    def __init__(self,n, m, im):\n",
    "        self.imshape = im.shape\n",
    "        self.im = im\n",
    "        self.num = n*10+m\n",
    "        self.row = n\n",
    "        self.clm = m\n",
    "        self.xpos = self.imshape[0]*m\n",
    "        self.ypos = self.imshape[1]*n\n",
    "        self.width = self.imshape[0]\n",
    "        self.heigth = self.imshape[1]\n",
    "\n"
   ]
  },
  {
   "cell_type": "code",
   "execution_count": 12,
   "metadata": {
    "collapsed": true,
    "deletable": true,
    "editable": true
   },
   "outputs": [],
   "source": [
    "# define main funtion\n",
    "\n",
    "def makePuzzle(img, n=4, m=4):\n",
    "    imshape = img.shape\n",
    "    # Define empty array to append tiles\n",
    "    imArray =[]\n",
    "    tiles ={}\n",
    "    crop = np.copy(img)\n",
    "    # Define size of tiles\n",
    "    length = imshape[0]/m\n",
    "    width = imshape[1]/n\n",
    "    # crop the image in tiles and append them\n",
    "    for nn in range(0,n):\n",
    "        for mm in range(0,m):\n",
    "            xstart = nn* length\n",
    "            xstop = xstart + length\n",
    "            ystart = mm*width\n",
    "            ystop = ystart + width\n",
    "            piece = crop[xstart:xstop, ystart:ystop]\n",
    "            imArray.append(piece)\n",
    "            name = ''.join([str(nn+1),str(mm+1)])\n",
    "            tiles[name] = tile(nn+1, mm+1, piece)\n",
    "    \n",
    "    return tiles"
   ]
  },
  {
   "cell_type": "code",
   "execution_count": 13,
   "metadata": {
    "collapsed": false,
    "deletable": true,
    "editable": true
   },
   "outputs": [
    {
     "name": "stdout",
     "output_type": "stream",
     "text": [
      "(540, 540, 3)\n",
      "(135, 135, 3)\n"
     ]
    },
    {
     "name": "stderr",
     "output_type": "stream",
     "text": [
      "c:\\users\\eldas\\miniconda3\\lib\\site-packages\\ipykernel\\__main__.py:19: VisibleDeprecationWarning: using a non-integer number instead of an integer will result in an error in the future\n"
     ]
    }
   ],
   "source": [
    "img = cv2.imread(\"globe.jpg\")\n",
    "imshape = img.shape\n",
    "print (imshape)\n",
    "ans = makePuzzle(img)\n",
    "print(ans['12'].imshape)\n",
    "bTile = np.zeros_like(ans[\"11\"].im)\n",
    "ans[\"11\"].im = bTile\n",
    "ans[\"black\"] = ans.pop(\"11\")"
   ]
  },
  {
   "cell_type": "code",
   "execution_count": 13,
   "metadata": {
    "collapsed": false,
    "deletable": true,
    "editable": true
   },
   "outputs": [
    {
     "name": "stdout",
     "output_type": "stream",
     "text": [
      "[4, 1, 2, 3]\n"
     ]
    },
    {
     "ename": "NameError",
     "evalue": "name 'key' is not defined",
     "output_type": "error",
     "traceback": [
      "\u001b[0;31m---------------------------------------------------------------------------\u001b[0m",
      "\u001b[0;31mNameError\u001b[0m                                 Traceback (most recent call last)",
      "\u001b[0;32m<ipython-input-13-ea07606f66d1>\u001b[0m in \u001b[0;36m<module>\u001b[0;34m()\u001b[0m\n\u001b[1;32m     27\u001b[0m     \u001b[0mcv2\u001b[0m\u001b[1;33m.\u001b[0m\u001b[0mwaitKey\u001b[0m\u001b[1;33m(\u001b[0m\u001b[1;36m0\u001b[0m\u001b[1;33m)\u001b[0m\u001b[1;33m\u001b[0m\u001b[0m\n\u001b[1;32m     28\u001b[0m     \u001b[0mn\u001b[0m\u001b[1;33m+=\u001b[0m\u001b[1;36m1\u001b[0m\u001b[1;33m\u001b[0m\u001b[0m\n\u001b[0;32m---> 29\u001b[0;31m     \u001b[1;32mif\u001b[0m \u001b[0mkey\u001b[0m \u001b[1;33m==\u001b[0m \u001b[0mord\u001b[0m\u001b[1;33m(\u001b[0m\u001b[1;34m\"c\"\u001b[0m\u001b[1;33m)\u001b[0m\u001b[1;33m:\u001b[0m\u001b[1;33m\u001b[0m\u001b[0m\n\u001b[0m\u001b[1;32m     30\u001b[0m         \u001b[1;32mbreak\u001b[0m\u001b[1;33m\u001b[0m\u001b[0m\n\u001b[1;32m     31\u001b[0m \u001b[1;31m# close all open windows\u001b[0m\u001b[1;33m\u001b[0m\u001b[1;33m\u001b[0m\u001b[0m\n",
      "\u001b[0;31mNameError\u001b[0m: name 'key' is not defined"
     ]
    }
   ],
   "source": [
    "# Create board\n",
    "\n",
    "board = np.zeros_like(img)\n",
    "xrow = [1,2,3,4]\n",
    "yrow = [1,2,3,4]\n",
    "random.shuffle(yrow)\n",
    "random.shuffle(xrow)\n",
    "print(xrow)\n",
    "n=0\n",
    "m=0\n",
    "x=0\n",
    "y=0\n",
    "#del ans[\"11\"] \n",
    "for ti in ans:\n",
    "    if n == 4:\n",
    "        n=0\n",
    "        m+=1\n",
    "    x = xrow[n]\n",
    "    n += 1\n",
    "    y = yrow[m]\n",
    "    board[ans[ti].width*x-ans[ti].width:ans[ti].width*x,ans[ti].heigth*y-ans[ti].heigth:ans[ti].heigth*y]= ans[ti].im\n",
    "\n",
    "trigger = True\n",
    "n = 0\n",
    "while trigger == True:\n",
    "    cv2.imshow('board',board)\n",
    "    cv2.waitKey(0)\n",
    "    n+=1\n",
    "    if key == ord(\"c\"):\n",
    "        break\n",
    "# close all open windows\n",
    "cv2.destroyAllWindows()"
   ]
  },
  {
   "cell_type": "code",
   "execution_count": 14,
   "metadata": {
    "collapsed": false,
    "deletable": true,
    "editable": true
   },
   "outputs": [],
   "source": [
    "refPt = []\n",
    "dragging = False\n",
    "def drag(event, x, y, flags, param):\n",
    "    if event == cv2.EVENT_LBUTTONDOWN:\n",
    "        for n in ans:\n",
    "            if x<=ans[n].xpos & x>ans[n].xpos-ans[n].width & y<=ans[n].ypos & y>ans[n].ypos-ans[n].heigth:\n",
    "                xOld = ans[n].xpos\n",
    "                yOld = ans[n].ypos\n",
    "                marker = n\n",
    "                dragging = True\n",
    "    elif event == cv2.EVENT_LBUTTONUP:\n",
    "        if x<=ans[\"black\"].xpos & x>ans[\"black\"].xpos-ans[\"black\"].width & y<=ans[\"black\"].ypos & y>ans[\"black\"].ypos-ans[\"black\"].heigth:\n",
    "            xNew = ans[\"black\"].xpos\n",
    "            yNew = ans[\"black\"].ypos\n",
    "            ans[marker].xpos = xNew\n",
    "            ans[marker].ypos = yNew\n",
    "            ans['black'].xpos = xNew\n",
    "            ans['black'].ypos = yNew\n",
    "            dragging = False\n",
    "    "
   ]
  },
  {
   "cell_type": "code",
   "execution_count": 15,
   "metadata": {
    "collapsed": false
   },
   "outputs": [],
   "source": [
    "\n",
    "# load the image, clone it, and setup the mouse callback function\n",
    "image = cv2.imread(\"globe.jpg\")\n",
    "board = np.zeros_like(image)\n",
    "for ti in ans:\n",
    "    board[ans[ti].xpos-ans[ti].width:ans[ti].xpos,ans[ti].ypos-ans[ti].heigth:ans[ti].ypos]= ans[ti].im\n",
    "clone = board.copy()\n",
    "\n",
    "\n",
    "cv2.namedWindow(\"image\")\n",
    "cv2.setMouseCallback(\"image\", drag)\n",
    "\n",
    "# keep looping until the 'q' key is pressed\n",
    "while True:\n",
    "    # display the image and wait for a keypress\n",
    "    cv2.imshow(\"board\", board)\n",
    "    key = cv2.waitKey(1) & 0xFF\n",
    "    for ti in ans:\n",
    "        board[ans[ti].xpos-ans[ti].width:ans[ti].xpos,ans[ti].ypos-ans[ti].heigth:ans[ti].ypos]= ans[ti].im\n",
    "\n",
    "    # if the 'r' key is pressed, reset the cropping region\n",
    "    if key == ord(\"r\"):\n",
    "        board = clone.copy()\n",
    " \n",
    "    # if the 'c' key is pressed, break from the loop\n",
    "    elif key == ord(\"c\"):\n",
    "        break"
   ]
  },
  {
   "cell_type": "code",
   "execution_count": null,
   "metadata": {
    "collapsed": true
   },
   "outputs": [],
   "source": []
  }
 ],
 "metadata": {
  "kernelspec": {
   "display_name": "Python 3",
   "language": "python",
   "name": "python3"
  },
  "language_info": {
   "codemirror_mode": {
    "name": "ipython",
    "version": 3
   },
   "file_extension": ".py",
   "mimetype": "text/x-python",
   "name": "python",
   "nbconvert_exporter": "python",
   "pygments_lexer": "ipython3",
   "version": "3.5.2"
  }
 },
 "nbformat": 4,
 "nbformat_minor": 2
}
